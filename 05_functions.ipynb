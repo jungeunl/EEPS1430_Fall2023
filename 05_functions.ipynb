{
 "cells": [
  {
   "cell_type": "markdown",
   "metadata": {
    "id": "QhIFw4qwp9Wj"
   },
   "source": [
    "# Functions "
   ]
  },
  {
   "cell_type": "markdown",
   "metadata": {
    "id": "lpiq3dQup9Wk"
   },
   "source": [
    "Reference: <br>\n",
    "    University of College London Python lecture note <br>\n",
    "    MIT Python lecture note <br>\n",
    "    Scipy lecture notes (http://scipy-lectures.org/index.html)"
   ]
  },
  {
   "cell_type": "code",
   "execution_count": 1,
   "metadata": {
    "id": "JtyUnfhcp9Wl"
   },
   "outputs": [],
   "source": [
    "import numpy as np\n",
    "import matplotlib.pyplot as plt"
   ]
  },
  {
   "cell_type": "markdown",
   "metadata": {
    "id": "brLYUsxop9Wl"
   },
   "source": [
    "## Functions\n",
    "- abs( ) is an example of a function.\n",
    "- Functions have a name (here “abs”), followed by parentheses. They can take some input (here a number), do something with them and create some output (here it returns the absolute value of the number). <br>\n",
    " - Their name should usually be self-explanatory.  <br>\n",
    " - You can type help(abs) or abs? to see what any function does exactly.  <br>\n",
    "- They form the fundamental basis of any imperative programming language. <br>\n",
    " - Just think of them as providing you with advanced functionalities for free for now.  <br>\n",
    " - We will cover more about functions later on.\n",
    "- Functions take an input (arguments) and produce an output (return value).\n",
    " - just like mathematical functions.\n",
    "- Examples of functions:\n",
    " - Compute something for a particular input. \n",
    " - Load or save results.\n",
    " - Produce a figure or plot.\n",
    " \n",
    " Note that Python is case-sensitive.\n",
    " "
   ]
  },
  {
   "cell_type": "markdown",
   "metadata": {
    "id": "f3eCsiMBp9Wm"
   },
   "source": [
    "Define Functions like this:"
   ]
  },
  {
   "cell_type": "code",
   "execution_count": 2,
   "metadata": {
    "id": "aqcn6M7Tp9Wm"
   },
   "outputs": [],
   "source": [
    "def square(x):\n",
    "    return(x*x)"
   ]
  },
  {
   "cell_type": "markdown",
   "metadata": {
    "id": "E0hTkbOtp9Wn"
   },
   "source": [
    "- def tells Python you are defining a function.\n",
    "- Next is the name of the function square.\n",
    "- Then you tell Python about the inputs the function takes, and give them names.\n",
    "> In our example, square is a function with just one parameter, called x"
   ]
  },
  {
   "cell_type": "markdown",
   "metadata": {
    "id": "DTuJbrxbp9Wn"
   },
   "source": [
    "- Define a Python function that computes the function values."
   ]
  },
  {
   "cell_type": "code",
   "execution_count": null,
   "metadata": {
    "id": "lkwRZLfUp9Wn",
    "outputId": "f28365a0-ec63-49d3-bbc9-94093d7120a0"
   },
   "outputs": [
    {
     "name": "stdout",
     "output_type": "stream",
     "text": [
      "3 21\n"
     ]
    }
   ],
   "source": [
    "def f(x):\n",
    "    return 2*x**2 +3\n",
    "print (f(0),f(3))"
   ]
  },
  {
   "cell_type": "code",
   "execution_count": null,
   "metadata": {
    "id": "bf4GjT1bp9Wo",
    "outputId": "b03a64ae-c1b5-422e-e506-69bdc3da592f"
   },
   "outputs": [
    {
     "data": {
      "text/plain": [
       "[<matplotlib.lines.Line2D at 0x11e8860f0>]"
      ]
     },
     "execution_count": 8,
     "metadata": {
      "tags": []
     },
     "output_type": "execute_result"
    },
    {
     "data": {
      "image/png": "[encoded data removed]",
      "text/plain": [
       "<Figure size 432x288 with 1 Axes>"
      ]
     },
     "metadata": {
      "needs_background": "light",
      "tags": []
     },
     "output_type": "display_data"
    }
   ],
   "source": [
    "plt.plot([-3,0,3],[f(-3),f(0),f(3)])"
   ]
  },
  {
   "cell_type": "markdown",
   "metadata": {
    "id": "5DSag7J7p9Wp"
   },
   "source": [
    "#### Exercise\n",
    "Create a function called cc with input temperature (K), temp, and returns saturation vapor pressure (hPa) es. <br>\n",
    "\n",
    "> es = 6.11* exp (17.502*T/(T+240.97)) <br>\n",
    "\n",
    "Note that T in the above equation is in Celcius. Also note that you have to numpy to calculate exponential values (np.exp( ))."
   ]
  },
  {
   "cell_type": "code",
   "execution_count": 3,
   "metadata": {
    "id": "4gifudrap9Wp"
   },
   "outputs": [],
   "source": [
    "def cc(T):\n",
    "    return  6.11* np.exp (17.502*T/(T+240.97)) "
   ]
  },
  {
   "cell_type": "markdown",
   "metadata": {
    "id": "tcqdLCbSp9Wq"
   },
   "source": [
    "Calcuate and print saturation vapor pressure at 20$\\mathrm{^o}$C."
   ]
  },
  {
   "cell_type": "code",
   "execution_count": 4,
   "metadata": {
    "id": "RStNboYRp9Wq"
   },
   "outputs": [
    {
     "data": {
      "text/plain": [
       "23.364794275488244"
      ]
     },
     "execution_count": 4,
     "metadata": {},
     "output_type": "execute_result"
    }
   ],
   "source": [
    "cc(20)"
   ]
  },
  {
   "cell_type": "markdown",
   "metadata": {
    "id": "oZN4Oho8p9Wq"
   },
   "source": [
    "#### Exercise\n",
    "Let's Make a plot for the Clausius-Clapeyron relationship."
   ]
  },
  {
   "cell_type": "markdown",
   "metadata": {
    "id": "IKk54Ildp9Wr"
   },
   "source": [
    "Create a temperature array Tc from 0 to 30, with an increment of 0.1."
   ]
  },
  {
   "cell_type": "code",
   "execution_count": 5,
   "metadata": {
    "id": "tEplwq5vp9Wr"
   },
   "outputs": [],
   "source": [
    "Tc=np.arange(0,30.1,0.1)"
   ]
  },
  {
   "cell_type": "markdown",
   "metadata": {
    "id": "hbBiEhfsp9Ws"
   },
   "source": [
    "Call the function cc using the input Tc and save it as es (es = ...). Note that the input can be an array or a number."
   ]
  },
  {
   "cell_type": "code",
   "execution_count": 7,
   "metadata": {
    "id": "TE9Buul0p9Ws"
   },
   "outputs": [],
   "source": [
    "es=cc(Tc)"
   ]
  },
  {
   "cell_type": "markdown",
   "metadata": {
    "id": "da2Yycd0p9Ws"
   },
   "source": [
    "Make a plot (x axis: Tc, Y axis: es) and add axes labels including units."
   ]
  },
  {
   "cell_type": "code",
   "execution_count": 9,
   "metadata": {
    "id": "fJiogQ0Ep9Wt"
   },
   "outputs": [
    {
     "data": {
      "text/plain": [
       "Text(0, 0.5, 'es (hPa)')"
      ]
     },
     "execution_count": 9,
     "metadata": {},
     "output_type": "execute_result"
    },
    {
     "data": {
      "image/png": "[encoded data removed]",
      "text/plain": [
       "<Figure size 640x480 with 1 Axes>"
      ]
     },
     "metadata": {},
     "output_type": "display_data"
    }
   ],
   "source": [
    "plt.plot(Tc,es)\n",
    "plt.xlabel(\"T (oC)\")\n",
    "plt.ylabel(\"es (hPa)\")"
   ]
  },
  {
   "cell_type": "code",
   "execution_count": null,
   "metadata": {},
   "outputs": [],
   "source": []
  }
 ],
 "metadata": {
  "colab": {
   "collapsed_sections": [],
   "name": "05_functions.ipynb",
   "provenance": []
  },
  "kernelspec": {
   "display_name": "Python 3 (ipykernel)",
   "language": "python",
   "name": "python3"
  },
  "language_info": {
   "codemirror_mode": {
    "name": "ipython",
    "version": 3
   },
   "file_extension": ".py",
   "mimetype": "text/x-python",
   "name": "python",
   "nbconvert_exporter": "python",
   "pygments_lexer": "ipython3",
   "version": "3.10.8"
  }
 },
 "nbformat": 4,
 "nbformat_minor": 4
}
