{
 "cells": [
  {
   "cell_type": "markdown",
   "metadata": {
    "id": "9_sRZIjWbXG-"
   },
   "source": [
    "# Lists"
   ]
  },
  {
   "cell_type": "markdown",
   "metadata": {
    "id": "IHaXZVizbXHC"
   },
   "source": [
    "Reference: <br>\n",
    "    University of College London Python lecture note <br>\n",
    "    MIT Python lecture note <br>\n",
    "    Scipy lecture notes (http://scipy-lectures.org/index.html)\n",
    "    Jupyter notebook \n",
    "    (https://jupyter-notebook.readthedocs.io/en/stable/index.html)"
   ]
  },
  {
   "cell_type": "markdown",
   "metadata": {
    "id": "IyQ9bkQRbXHD"
   },
   "source": [
    "#### Exercise\n",
    "Write a program that calculates and plots the vertical profile of atmospheric pressure.\n",
    "- First, import necessary modules"
   ]
  },
  {
   "cell_type": "code",
   "execution_count": 1,
   "metadata": {
    "id": "jOEIulk3bXHE"
   },
   "outputs": [],
   "source": [
    "import numpy as np\n",
    "import matplotlib.pyplot as plt"
   ]
  },
  {
   "cell_type": "markdown",
   "metadata": {
    "id": "KWAkajRLbXHE"
   },
   "source": [
    "Calculate the Scale Height H. Use the following values: <br>\n",
    "Rd = 287. (J/kgK) <br>\n",
    "T = 250. <br>\n",
    "g = 9.81 <br>\n",
    "\n",
    "First define constants, and then create a variable H (Rd*T/g)."
   ]
  },
  {
   "cell_type": "code",
   "execution_count": 2,
   "metadata": {
    "id": "msk9ICB3bXHF"
   },
   "outputs": [
    {
     "data": {
      "text/plain": [
       "7313.965341488277"
      ]
     },
     "execution_count": 2,
     "metadata": {},
     "output_type": "execute_result"
    }
   ],
   "source": [
    "Rd=287\n",
    "T=250\n",
    "g=9.81\n",
    "H=Rd*T/g\n",
    "H"
   ]
  },
  {
   "cell_type": "markdown",
   "metadata": {
    "id": "jrFSH75KbXHF"
   },
   "source": [
    "Make an array for the height (z) from 0 to 20000 m (increment 100 m)."
   ]
  },
  {
   "cell_type": "code",
   "execution_count": 6,
   "metadata": {
    "id": "w5I_7FrAbXHG"
   },
   "outputs": [
    {
     "data": {
      "text/plain": [
       "201"
      ]
     },
     "execution_count": 6,
     "metadata": {},
     "output_type": "execute_result"
    }
   ],
   "source": [
    "z=np.arange(0,20100,100)\n",
    "z.size"
   ]
  },
  {
   "cell_type": "markdown",
   "metadata": {
    "id": "CCUySpbLbXHG"
   },
   "source": [
    "Define surface pressure p0 = 100000 Pa."
   ]
  },
  {
   "cell_type": "code",
   "execution_count": 7,
   "metadata": {
    "id": "awox_dUmbXHG"
   },
   "outputs": [],
   "source": [
    "p0=100000"
   ]
  },
  {
   "cell_type": "markdown",
   "metadata": {
    "id": "4ftWJxLWbXHH"
   },
   "source": [
    "Calculate p = p0.exp(-z/H). Note that you need to use numpy function to calculate exponential (e.g. np.exp(1.))."
   ]
  },
  {
   "cell_type": "code",
   "execution_count": 9,
   "metadata": {
    "id": "zBlXWx6XbXHH"
   },
   "outputs": [
    {
     "data": {
      "text/plain": [
       "array([100000.        ,  98642.05698745,  97302.55406715,  95981.24083316,\n",
       "        94677.87027991,  93392.19875601,  92123.98591873,  90872.99468907,\n",
       "        89638.99120739,  88421.74478977,  87221.02788482,  86036.61603118,\n",
       "        84868.28781555,  83715.82483129,  82579.01163759,  81457.63571922,\n",
       "        80351.48744678,  79260.36003752,  78184.04951667,  77122.35467932,\n",
       "        76075.07705284,  75042.02085971,  74022.99298097,  73017.8029201 ,\n",
       "        72026.26276743,  71048.18716498,  70083.39327183,  69131.70072993,\n",
       "        68192.93163041,  67266.91048028,  66353.46416966,  65452.42193938,\n",
       "        64563.61534911,  63686.87824582,  62822.04673277,  61968.95913882,\n",
       "        61127.45598825,  60297.3799709 ,  59478.57591284,  58670.89074726,\n",
       "        57874.17348596,  57088.27519103,  56313.04894709,  55548.34983376,\n",
       "        54794.0348986 ,  54049.9631304 ,  53315.99543279,  52591.99459824,\n",
       "        51877.82528243,  51173.35397894,  50478.4489943 ,  49792.98042333,\n",
       "        49116.82012493,  48449.84169806,  47791.92045813,  47142.9334137 ,\n",
       "        46502.7592435 ,  45871.27827371,  45248.37245562,  44633.92534357,\n",
       "        44027.82207314,  43429.94933972,  42840.1953773 ,  42258.44993761,\n",
       "        41684.60426947,  41118.55109849,  40560.18460698,  40009.40041423,\n",
       "        39466.09555694,  38930.16847   ,  38401.51896749,  37880.04822396,\n",
       "        37365.65875595,  36858.25440378,  36357.74031355,  35864.02291944,\n",
       "        35377.00992619,  34896.61029185,  34422.73421077,  33955.29309683,\n",
       "        33494.19956683,  33039.3674242 ,  32590.71164287,  32148.14835138,\n",
       "        31711.59481717,  31280.96943119,  30856.19169254,  30437.18219351,\n",
       "        30023.86260469,  29616.15566036,  29213.98514398,  28817.27587403,\n",
       "        28425.95368989,  28039.94543801,  27659.17895821,  27283.58307022,\n",
       "        26913.08756034,  26547.62316835,  26187.12157454,  25831.51538693,\n",
       "        25480.7381287 ,  25134.72422573,  24793.40899438,  24456.72862937,\n",
       "        24124.62019185,  23797.02159765,  23473.87160567,  23155.10980643,\n",
       "        22840.67661076,  22530.5132387 ,  22224.56170849,  21922.7648257 ,\n",
       "        21625.06617259,  21331.41009754,  21041.74170464,  20756.00684344,\n",
       "        20474.15209883,  20196.12478102,  19921.87291575,  19651.34523452,\n",
       "        19384.49116504,  19121.26082174,  18861.6049965 ,  18605.4751494 ,\n",
       "        18352.82339966,  18103.60251669,  17857.7659113 ,  17615.26762691,\n",
       "        17376.06233103,  17140.10530675,  16907.35244439,  16677.76023326,\n",
       "        16451.28575352,  16227.88666816,  16007.52121506,  15790.14819924,\n",
       "        15575.7269851 ,  15364.21748885,  15155.58017103,  14949.77602908,\n",
       "        14746.7665901 ,  14546.51390362,  14348.98053449,  14154.12955595,\n",
       "        13961.92454266,  13772.32956392,  13585.30917694,  13400.82842023,\n",
       "        13218.85280708,  13039.34831904,  12862.28139966,  12687.61894814,\n",
       "        12515.32831318,  12345.37728685,  12177.73409861,  12012.36740933,\n",
       "        11849.24630545,  11688.34029321,  11529.61929291,  11373.05363335,\n",
       "        11218.61404622,  11066.27166068,  10915.99799791,  10767.76496585,\n",
       "        10621.54485389,  10477.31032772,  10335.03442422,  10194.69054641,\n",
       "        10056.25245849,   9919.6942809 ,   9784.99048555,   9652.11589097,\n",
       "         9521.04565767,   9391.75528344,   9264.22059881,   9138.41776252,\n",
       "         9014.32325706,   8891.91388426,   8771.16676098,   8652.05931483,\n",
       "         8534.56927993,   8418.67469274,   8304.353888  ,   8191.58549464,\n",
       "         8080.3484318 ,   7970.62190488,   7862.38540166,   7755.61868848,\n",
       "         7650.30180642,   7546.4150676 ,   7443.93905149,   7342.85460129,\n",
       "         7243.14282031,   7144.78506849,   7047.76295889,   6952.05835425,\n",
       "         6857.6533636 ,   6764.53033892,   6672.67187185,   6582.06079042,\n",
       "         6492.68015583])"
      ]
     },
     "execution_count": 9,
     "metadata": {},
     "output_type": "execute_result"
    }
   ],
   "source": [
    "p=p0*np.exp(-z/H)\n",
    "p"
   ]
  },
  {
   "cell_type": "markdown",
   "metadata": {
    "id": "zAL0UFCkbXHI"
   },
   "source": [
    "Creat a plot (Use p/100 (hPa) and z/1000 (km) as a y-axis)"
   ]
  },
  {
   "cell_type": "code",
   "execution_count": 13,
   "metadata": {
    "id": "1m3u_slVbXHI"
   },
   "outputs": [
    {
     "data": {
      "text/plain": [
       "<matplotlib.legend.Legend at 0x12762e8c0>"
      ]
     },
     "execution_count": 13,
     "metadata": {},
     "output_type": "execute_result"
    },
    {
     "data": {
      "image/png": "[encoded data removed]",
      "text/plain": [
       "<Figure size 640x480 with 1 Axes>"
      ]
     },
     "metadata": {},
     "output_type": "display_data"
    }
   ],
   "source": [
    "plt.plot(p/100, z/1000, label=\"test\")\n",
    "plt.xlabel(\"P (hPa)\")\n",
    "plt.ylabel(\"Height (km)\")\n",
    "plt.legend()"
   ]
  },
  {
   "cell_type": "markdown",
   "metadata": {
    "id": "4puQxL8abXHI"
   },
   "source": [
    "## Python program"
   ]
  },
  {
   "cell_type": "markdown",
   "metadata": {
    "id": "TPN6Qn96bXHJ"
   },
   "source": [
    "Till now, we are only entering commands interactively in the interpreter.\n",
    "It is always better to write everything in a file and run it (imagine you want to re-run the same things later, or with different parameters).\n",
    "A python program is just a text file containing python instructions, with the extension .py. <br>\n",
    "You run it by typing python myProgram.py in your interpreter. <br>\n",
    "Or directly from within ipython: type  <br>\n",
    "%run myProgram.py <br>"
   ]
  },
  {
   "cell_type": "markdown",
   "metadata": {
    "id": "Cq6exR3RbXHK"
   },
   "source": [
    "# Lists\n",
    "\n",
    "- Compound data type used to group together\n",
    "> list1 = ['first', 'second', 'third'] <br>\n",
    "> list2 = [1, 2, 3] <br>\n",
    "> list3 = ['pi', 3.1415925, 'answer', 42] <br>\n",
    "> empyList = [ ] <br>\n",
    "- Values don't have to be of the same type\n",
    "- Lists can be modified after creation (they are mutable)\n",
    "- Elements can be changed, added, and deleted\n",
    "- Lists are versatile and are used extensively in typical python code"
   ]
  },
  {
   "cell_type": "markdown",
   "metadata": {
    "id": "1dXgexRCbXHK"
   },
   "source": [
    "## Lists: Accessing Elements\n",
    "- Individual list elements can be retrieved by providing the position of the item to be retrieved in square brackets [ ]\n",
    ">        0     1     2\n",
    "> list1 = ['first','second','third']\n",
    ">       -3    -2    -1\n",
    "- Indexing starts at 0\n",
    "- Negative indexes go backwards from the end\n",
    "- Individual list elements can be retrieved by providing the position of the item to be retrieved in square brackets [ ]"
   ]
  },
  {
   "cell_type": "code",
   "execution_count": 14,
   "metadata": {
    "id": "APiLvqKrbXHL",
    "outputId": "13827c88-070d-4504-fc85-1ff2c87852ea"
   },
   "outputs": [
    {
     "name": "stdout",
     "output_type": "stream",
     "text": [
      "first\n",
      "third\n"
     ]
    }
   ],
   "source": [
    "list1 = ['first','second','third']\n",
    "print(list1[0])\n",
    "print(list1[-1])"
   ]
  },
  {
   "cell_type": "code",
   "execution_count": 15,
   "metadata": {
    "id": "tfZ-EC0HbXHM",
    "outputId": "afbe052a-0297-4d3b-b393-e42d9d938127"
   },
   "outputs": [
    {
     "name": "stdout",
     "output_type": "stream",
     "text": [
      "pi is roughtly 3.1415925\n"
     ]
    }
   ],
   "source": [
    "list3 = ['pi', 3.1415925, 'answer', 42] \n",
    "print(f\"{list3[0]} is roughtly {list3[1]}\")"
   ]
  },
  {
   "cell_type": "markdown",
   "metadata": {
    "id": "yZyY3DkZbXHN"
   },
   "source": [
    "#### Exercise\n",
    "Create list2 = [1, 2, 3] and print the last element. "
   ]
  },
  {
   "cell_type": "code",
   "execution_count": 16,
   "metadata": {
    "id": "62V8Y82tbXHN"
   },
   "outputs": [
    {
     "name": "stdout",
     "output_type": "stream",
     "text": [
      "3\n"
     ]
    }
   ],
   "source": [
    "list2=[1,2,3]\n",
    "print(list2[-1])"
   ]
  },
  {
   "cell_type": "markdown",
   "metadata": {
    "id": "RUIR05QCbXHO"
   },
   "source": [
    "## List: Length\n",
    "- The length of a list can be determined using the len( ) function"
   ]
  },
  {
   "cell_type": "code",
   "execution_count": 17,
   "metadata": {
    "id": "-5aLQ8VSbXHO",
    "outputId": "84244bf6-eb93-455f-bd4a-da11f2bc434f"
   },
   "outputs": [
    {
     "data": {
      "text/plain": [
       "3"
      ]
     },
     "execution_count": 17,
     "metadata": {},
     "output_type": "execute_result"
    }
   ],
   "source": [
    "len(list1)"
   ]
  },
  {
   "cell_type": "markdown",
   "metadata": {
    "id": "w_M68ADjbXHP"
   },
   "source": [
    "### Exercise\n",
    "Print the leghth of list2."
   ]
  },
  {
   "cell_type": "code",
   "execution_count": 18,
   "metadata": {
    "id": "mnC26N3tbXHP"
   },
   "outputs": [
    {
     "data": {
      "text/plain": [
       "3"
      ]
     },
     "execution_count": 18,
     "metadata": {},
     "output_type": "execute_result"
    }
   ],
   "source": [
    "len(list2)"
   ]
  },
  {
   "cell_type": "markdown",
   "metadata": {
    "id": "egYsxb1abXHP"
   },
   "source": [
    "- Trying to retrieve an item past the end throws an IndexError."
   ]
  },
  {
   "cell_type": "code",
   "execution_count": 19,
   "metadata": {
    "id": "YZaKTlY-bXHQ",
    "outputId": "84e39b94-8022-4c8c-b36a-588ac3e06243"
   },
   "outputs": [
    {
     "ename": "IndexError",
     "evalue": "list index out of range",
     "output_type": "error",
     "traceback": [
      "\u001b[0;31m---------------------------------------------------------------------------\u001b[0m",
      "\u001b[0;31mIndexError\u001b[0m                                Traceback (most recent call last)",
      "Cell \u001b[0;32mIn [19], line 1\u001b[0m\n\u001b[0;32m----> 1\u001b[0m \u001b[43mlist1\u001b[49m\u001b[43m[\u001b[49m\u001b[38;5;241;43m3\u001b[39;49m\u001b[43m]\u001b[49m\n",
      "\u001b[0;31mIndexError\u001b[0m: list index out of range"
     ]
    }
   ],
   "source": [
    "list1[3]"
   ]
  },
  {
   "cell_type": "markdown",
   "metadata": {
    "id": "4EJFi2rgbXHQ"
   },
   "source": [
    "## Lists: Changing items\n",
    "- Items can be modified by using the [ ] notation on the left-hand side of an assignment"
   ]
  },
  {
   "cell_type": "code",
   "execution_count": 20,
   "metadata": {
    "id": "V6wpyMC3bXHR",
    "outputId": "3d4c77d8-40cb-497a-cd96-aeab44d3bf4f"
   },
   "outputs": [
    {
     "name": "stdout",
     "output_type": "stream",
     "text": [
      "pi is roughtly 3.1415925\n",
      "pi is roughtly 3.14\n"
     ]
    }
   ],
   "source": [
    "print(f\"{list3[0]} is roughtly {list3[1]}\")\n",
    "list3[1]=3.14\n",
    "print(f\"{list3[0]} is roughtly {list3[1]}\")"
   ]
  },
  {
   "cell_type": "markdown",
   "metadata": {
    "id": "V_ytNgbcbXHR"
   },
   "source": [
    "## Lists: Appending and Extending\n",
    "- An item can be appended to the end of a list using append"
   ]
  },
  {
   "cell_type": "code",
   "execution_count": 21,
   "metadata": {
    "id": "QIUMQZJYbXHS",
    "outputId": "45d5236f-6c23-4612-9e8d-1e755839c5f0"
   },
   "outputs": [
    {
     "name": "stdout",
     "output_type": "stream",
     "text": [
      "3\n",
      "fourth\n",
      "4\n"
     ]
    }
   ],
   "source": [
    "print(len(list1))\n",
    "list1.append('fourth')\n",
    "print(list1[-1])\n",
    "print(len(list1))"
   ]
  },
  {
   "cell_type": "markdown",
   "metadata": {
    "id": "v13ERbDybXHT"
   },
   "source": [
    "- A list of items can be appended to the end of a list using extend"
   ]
  },
  {
   "cell_type": "code",
   "execution_count": 22,
   "metadata": {
    "id": "djnS3tOIbXHU",
    "outputId": "02591747-3cd7-450b-9983-a4b59b069c4a"
   },
   "outputs": [
    {
     "name": "stdout",
     "output_type": "stream",
     "text": [
      "['first', 'second', 'third', 'fourth', 'fifth', 'sixth']\n"
     ]
    }
   ],
   "source": [
    "list1.extend([\"fifth\",\"sixth\"])\n",
    "print(list1)"
   ]
  },
  {
   "cell_type": "markdown",
   "metadata": {
    "id": "guRKRmDkbXHV"
   },
   "source": [
    "## Lists: Slicing\n",
    "- A copy of a sublist can be created using the slice operator\n",
    "> list[start:end]\n",
    "- The elements at the index start is included, the one at end is excluded <br>\n",
    "- Both indices can be ommitted, defaulting to the start and end of the list respectively <br>"
   ]
  },
  {
   "cell_type": "code",
   "execution_count": 24,
   "metadata": {
    "id": "OdITUTyBbXHW",
    "outputId": "56003fb7-3dbe-4253-b48b-9c2f30d6646d"
   },
   "outputs": [
    {
     "name": "stdout",
     "output_type": "stream",
     "text": [
      "['first']\n",
      "['second', 'third']\n",
      "['first', 'second']\n",
      "['second', 'third', 'fourth', 'fifth', 'sixth']\n",
      "['first', 'second', 'third', 'fourth', 'fifth', 'sixth']\n",
      "['first', 'second', 'third', 'fourth', 'fifth', 'sixth']\n"
     ]
    }
   ],
   "source": [
    "print(list1[0:1])\n",
    "print(list1[1:3])\n",
    "print(list1[:2])\n",
    "print(list1[1:])\n",
    "print(list1[:])\n",
    "print(list1)"
   ]
  },
  {
   "cell_type": "markdown",
   "metadata": {
    "id": "c96GnJLabXHX"
   },
   "source": [
    "#### Exercise\n",
    "Run the following cell. This is observed tropical specific humidity."
   ]
  },
  {
   "cell_type": "code",
   "execution_count": 25,
   "metadata": {
    "id": "MJIvmGHPbXHX"
   },
   "outputs": [],
   "source": [
    "# Mean specific humidity in the tropics (g/kg)\n",
    "q = [16.8,12.9,9.4,6.2,4.4,2.5,1.8,1.2,0.6,0.2]\n",
    "# Height (km)\n",
    "h = [0,1,2,3,4,5,6,7,8,9]"
   ]
  },
  {
   "cell_type": "markdown",
   "metadata": {
    "id": "6cXqS8QjbXHY"
   },
   "source": [
    "#### Exercise\n",
    "Print the first element in q and h."
   ]
  },
  {
   "cell_type": "code",
   "execution_count": 26,
   "metadata": {
    "id": "Ja-mFVKdbXHZ"
   },
   "outputs": [
    {
     "name": "stdout",
     "output_type": "stream",
     "text": [
      "16.8 0\n"
     ]
    }
   ],
   "source": [
    "print(q[0],h[0])"
   ]
  },
  {
   "cell_type": "markdown",
   "metadata": {
    "id": "iGdI7BnDbXHZ"
   },
   "source": [
    "#### Exercise\n",
    "Print the third element in q and h."
   ]
  },
  {
   "cell_type": "code",
   "execution_count": 27,
   "metadata": {
    "id": "wt5BYz3YbXHZ"
   },
   "outputs": [
    {
     "name": "stdout",
     "output_type": "stream",
     "text": [
      "9.4 2\n"
     ]
    }
   ],
   "source": [
    "print(q[2],h[2])"
   ]
  },
  {
   "cell_type": "markdown",
   "metadata": {
    "id": "zsOZPDmmbXHa"
   },
   "source": [
    "#### Exercise\n",
    "Print the last element in h."
   ]
  },
  {
   "cell_type": "code",
   "execution_count": 29,
   "metadata": {
    "id": "pTMmj5n9bXHb"
   },
   "outputs": [
    {
     "data": {
      "text/plain": [
       "9"
      ]
     },
     "execution_count": 29,
     "metadata": {},
     "output_type": "execute_result"
    }
   ],
   "source": [
    "h[-1]"
   ]
  },
  {
   "cell_type": "markdown",
   "metadata": {
    "id": "GkSW8Bh-bXHb"
   },
   "source": [
    "#### Exercise\n",
    "Create a plot (x axis:q; y axis: h)"
   ]
  },
  {
   "cell_type": "code",
   "execution_count": 30,
   "metadata": {
    "id": "4zqJW6BbbXHb"
   },
   "outputs": [
    {
     "data": {
      "text/plain": [
       "Text(0, 0.5, 'h (km)')"
      ]
     },
     "execution_count": 30,
     "metadata": {},
     "output_type": "execute_result"
    },
    {
     "data": {
      "image/png": "[encoded data removed]",
      "text/plain": [
       "<Figure size 640x480 with 1 Axes>"
      ]
     },
     "metadata": {},
     "output_type": "display_data"
    }
   ],
   "source": [
    "plt.plot(q,h)\n",
    "plt.xlabel(\"q (g/kg)\")\n",
    "plt.ylabel(\"h (km)\")"
   ]
  },
  {
   "cell_type": "code",
   "execution_count": null,
   "metadata": {
    "id": "7a9sDIelbXHi"
   },
   "outputs": [],
   "source": []
  }
 ],
 "metadata": {
  "colab": {
   "collapsed_sections": [
    "yZyY3DkZbXHN",
    "c96GnJLabXHX",
    "6cXqS8QjbXHY",
    "iGdI7BnDbXHZ",
    "zsOZPDmmbXHa"
   ],
   "name": "04_list.ipynb",
   "provenance": []
  },
  "kernelspec": {
   "display_name": "Python 3 (ipykernel)",
   "language": "python",
   "name": "python3"
  },
  "language_info": {
   "codemirror_mode": {
    "name": "ipython",
    "version": 3
   },
   "file_extension": ".py",
   "mimetype": "text/x-python",
   "name": "python",
   "nbconvert_exporter": "python",
   "pygments_lexer": "ipython3",
   "version": "3.10.8"
  }
 },
 "nbformat": 4,
 "nbformat_minor": 4
}
